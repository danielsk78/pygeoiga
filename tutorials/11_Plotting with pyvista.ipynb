{
 "cells": [
  {
   "cell_type": "markdown",
   "metadata": {},
   "source": [
    "# Salt dome"
   ]
  },
  {
   "cell_type": "markdown",
   "metadata": {},
   "source": [
    "This workflow can be extended to any geometry.\n",
    "\n",
    "Content:\n",
    "* [Create, refine and assign topology to geometry](#geometry)\n",
    "* [Build stiffness matrix](#k)\n",
    "* [Assign Dirichlet Boundary Conditions](#bc)\n",
    "* [Solving system of equations](#solve)\n",
    "* [Post-processing](#post)\n",
    "    * [plot](#plot)"
   ]
  },
  {
   "cell_type": "code",
   "execution_count": null,
   "metadata": {},
   "outputs": [],
   "source": [
    "import numpy as np\n",
    "import matplotlib.pyplot as plt"
   ]
  },
  {
   "cell_type": "markdown",
   "metadata": {},
   "source": [
    "<a id='geometry'></a>\n",
    "## 1) Create geometry - Anticline model; refine and assign topology"
   ]
  },
  {
   "cell_type": "code",
   "execution_count": null,
   "metadata": {},
   "outputs": [],
   "source": [
    "from pygeoiga.nurb.nurb_creation import NURB"
   ]
  },
  {
   "cell_type": "code",
   "execution_count": null,
   "metadata": {},
   "outputs": [],
   "source": [
    "# Create multipatch structure\n",
    "U1_1 = [[0, 0, 0, 1, 1, 1], [0, 0, 0, 1, 1, 1]]\n",
    "c1_1= np.asarray([[[ 0, 0], [0,  250], [0,  500]],\n",
    "                [[1200, 0], [1200,  250], [1200,  500]],\n",
    "                [[2400, 0], [2400,  250], [2400,  500]]])\n",
    "nrb1_1 = NURB(c1_1, U1_1)\n",
    "\n",
    "U1_2 = [[0, 0, 0, 0.25, 0.5, 0.75, 1, 1, 1],[0, 0, 0, 1, 1, 1]]\n",
    "c1_2 = np.asarray([[[2400, 0], [2400, 250], [2400, 500]],\n",
    "                 [[2580, 0], [2640, 250], [2700, 500]],\n",
    "                 [[2880, 0], [2790, 250], [2700, 500]],\n",
    "                 [[3180, 0], [3040, 450], [2900, 900]],\n",
    "                 [[3480, 0], [3190, 450], [2900, 900]],\n",
    "                 [[3600, 0], [3600, 450], [3600, 900]]])\n",
    "nrb1_2 = NURB(c1_2, U1_2)\n",
    "\n",
    "U1_3 = [[0, 0, 0, 1, 1, 1], [0, 0, 0, 1, 1, 1]]\n",
    "c1_3 = np.asarray([[[3600, 0], [3600, 450], [3600, 900]],\n",
    "                   [[4800, 0], [4800, 450],[4800, 900]],\n",
    "                   [[6000, 0], [6000, 450],[6000, 900]]])\n",
    "nrb1_3 = NURB(c1_3, U1_3)\n",
    "\n",
    "U2_1 = [[0, 0, 0, 1, 1, 1], [0, 0, 0, 1, 1, 1]]\n",
    "c2_1 = np.asarray([[[0, 500], [0, 650], [0, 800]],\n",
    "                   [[1200,  500], [1600, 500], [2000, 500]],\n",
    "                   [[2400, 500], [2400, 566], [2400, 632]]])\n",
    "nrb2_1 = NURB(c2_1, U2_1)\n",
    "\n",
    "U2_2 = [[0, 0, 0, 0.25, 0.5, 0.75, 1, 1, 1], [0, 0, 0, 1, 1, 1]]\n",
    "c2_2 = np.asarray([[[2400, 500], [2400, 566], [2400, 632]],\n",
    "                   [[2700, 500], [2650, 600], [2700, 650]],\n",
    "                   [[2700, 500], [2650, 700], [2750, 750]],\n",
    "                   [[2900, 900], [2900, 950], [2900, 1000]],\n",
    "                   [[2900, 900], [3300, 1000], [3300, 1100]],\n",
    "                   [[3600, 900], [3600, 1050], [3600, 1200]]])\n",
    "nrb2_2 = NURB(c2_2, U2_2)\n",
    "\n",
    "U2_3 = [[0, 0, 0, 1, 1, 1], [0, 0, 0, 1, 1, 1]]\n",
    "c2_3 = np.asarray([[[3600, 900], [3600, 1050], [3600, 1200]],\n",
    "                 [[4800, 900], [4200, 900], [4100, 1000]],\n",
    "                 [[6000, 900], [6000, 905], [6000, 910]]])\n",
    "nrb2_3 = NURB(c2_3, U2_3)\n",
    "\n",
    "U3_1 = [[0, 0, 0, 1, 1, 1], [0, 0, 0, 1, 1, 1]]\n",
    "c3_1 = np.asarray([[[0, 800], [0, 1100], [0, 1400]],\n",
    "                   [[2000, 500], [1400, 800], [2000, 700]],\n",
    "                   [[2400, 632], [2600, 700], [2800, 1250]]])\n",
    "nrb3_1 = NURB(c3_1, U3_1)\n",
    "\n",
    "U3_2 = [[0, 0, 0, 0.25, 0.5, 0.75, 1, 1, 1], [0, 0, 0, 1, 1, 1]]\n",
    "c3_2 = np.asarray([[[2400, 632], [2600, 700], [2800, 1250]],\n",
    "                   [[2700, 650], [2700, 800], [2850, 1250]],\n",
    "                   [[2750, 750], [2750, 900], [2950, 1400]],\n",
    "                   [[2900, 1000], [2950, 1250], [3000, 1500]],\n",
    "                   [[3300, 1100], [3150, 1400], [3200, 1700]],\n",
    "                   [[3600, 1200], [3250, 1600], [3300, 1800]]])\n",
    "nrb3_2 = NURB(c3_2, U3_2)\n",
    "\n",
    "U3_3 = [[0, 0, 0, 1, 1, 1], [0, 0, 0, 1, 1, 1]]\n",
    "c3_3 = np.asarray([[[3600, 1200], [3250, 1600], [3300, 1800]],\n",
    "                   [[4100, 1000], [4500, 1000], [4000, 1300]],\n",
    "                   [[6000, 910], [6000, 1100], [6000, 1300]]])\n",
    "nrb3_3 = NURB(c3_3, U3_3)\n",
    "\n",
    "U4_1 = [[0, 0, 0, 1, 1, 1], [0, 0, 0, 1, 1, 1]]\n",
    "c4_1 = np.asarray([[[0, 1400], [0, 1800], [0, 2200]],\n",
    "                   [[2000, 700], [2000, 1200], [2400, 1800]],\n",
    "                   [[2800, 1250], [2900, 1600], [2750, 2200]]])\n",
    "nrb4_1 = NURB(c4_1, U4_1)\n",
    "\n",
    "U4_2 = [[0, 0, 0, 0.25, 0.5, 0.75, 1, 1, 1], [0, 0, 0, 1, 1, 1]]\n",
    "c4_2 = np.asarray([[[2800, 1250], [2900, 1600], [2750, 2200]],\n",
    "                   [[2850, 1250], [2900, 2000], [2900, 2200]],\n",
    "                   [[2950, 1400], [3050, 2000], [3000, 2200]],\n",
    "                   [[3000, 1500], [3100, 2100], [3200, 2300]],\n",
    "                   [[3200, 1700], [3150, 2100], [3300, 2350]],\n",
    "                   [[3300, 1800], [3250, 2000], [3400, 2400]]])\n",
    "nrb4_2 = NURB(c4_2, U4_2)\n",
    "\n",
    "U4_3 = [[0, 0, 0, 1, 1, 1], [0, 0, 0, 1, 1, 1]]\n",
    "c4_3 = np.asarray([[[3300, 1800], [3250, 2000], [3400, 2400]],\n",
    "                   [[4000, 1300], [4000, 1200], [4000, 1800]],\n",
    "                   [[6000, 1300], [6000, 1600], [6000, 1800]]])\n",
    "nrb4_3 = NURB(c4_3, U4_3)\n",
    "\n",
    "U5_1 = [[0, 0, 0, 1, 1, 1], [0, 0, 0, 1, 1, 1]]\n",
    "c5_1 = np.asarray([[[0, 2200], [0, 2350], [0, 2500]],\n",
    "                   [[2400, 1800], [2400, 2100], [2400, 2200]],\n",
    "                   [[2750, 2200], [2700, 2300], [2700, 2500]]])\n",
    "nrb5_1 = NURB(c5_1, U5_1)\n",
    "\n",
    "U5_2 = [[0, 0, 0, 0.25, 0.5, 0.75, 1, 1, 1], [0, 0, 0, 1, 1, 1]]\n",
    "c5_2 = np.asarray([[[2750, 2200], [2700, 2300], [2700, 2500]],\n",
    "                   [[2900, 2200], [2800, 2500], [2800, 2700]],\n",
    "                   [[3000, 2200], [3000, 2500], [2900, 2750]],\n",
    "                   [[3200, 2300], [3150, 2500], [3000, 2790]],\n",
    "                   [[3300, 2350], [3280, 2500], [3190, 2790]],\n",
    "                   [[3400, 2400], [3400, 2500], [3300, 2670]]])\n",
    "nrb5_2 = NURB(c5_2, U5_2)\n",
    "\n",
    "U5_3 = [[0, 0, 0, 1, 1, 1], [0, 0, 0, 1, 1, 1]]\n",
    "c5_3 = np.asarray([[[3400, 2400], [3400, 2500], [3300, 2670]],\n",
    "                   [[4000, 1800], [4000, 2100], [4000, 2200]],\n",
    "                   [[6000, 1800], [6000, 2000], [6000, 2200]]])\n",
    "nrb5_3 = NURB(c5_3, U5_3)\n",
    "\n",
    "U6_1 = [[0, 0, 0, 1, 1, 1], [0, 0, 0, 1, 1, 1]]\n",
    "c6_1 = np.asarray([[[0, 2500], [0, 2750], [0, 3000]],\n",
    "                   [[2400, 2200], [2400, 2600], [2400, 3000]],\n",
    "                   [[2700, 2500], [2700, 2750], [2700, 3000]]])\n",
    "nrb6_1 = NURB(c6_1, U6_1)\n",
    "\n",
    "U6_2 = [[0, 0, 0, 0.25, 0.5, 0.75, 1, 1, 1], [0, 0, 0, 1, 1, 1]]\n",
    "c6_2 = np.asarray([[[2700, 2500], [2700, 2750], [2700, 3000]],\n",
    "                   [[2800, 2700], [2800, 2850], [2800, 3000]],\n",
    "                   [[2900, 2750], [2900, 2900], [2900, 3000]],\n",
    "                   [[3000, 2790], [3000, 2900], [3000, 3000]],\n",
    "                   [[3190, 2790], [3150, 2900], [3150, 3000]],\n",
    "                   [[3300, 2670], [3300, 2800], [3300, 3000]]])\n",
    "nrb6_2 = NURB(c6_2, U6_2)\n",
    "\n",
    "U6_3 = [[0, 0, 0, 1, 1, 1], [0, 0, 0, 1, 1, 1]]\n",
    "c6_3 = np.asarray([[[3300, 2670], [3300, 2800], [3300, 3000]],\n",
    "                   [[4000, 2200], [4000, 2600], [4000, 3000]],\n",
    "                   [[6000, 2200], [6000, 2600], [6000, 3000]]])\n",
    "nrb6_3 = NURB(c6_3, U6_3)"
   ]
  },
  {
   "cell_type": "code",
   "execution_count": null,
   "metadata": {},
   "outputs": [],
   "source": [
    "from pygeoiga.nurb.multipatch_NURBS import Multipatch"
   ]
  },
  {
   "cell_type": "code",
   "execution_count": null,
   "metadata": {},
   "outputs": [],
   "source": [
    "mult = Multipatch()"
   ]
  },
  {
   "cell_type": "code",
   "execution_count": null,
   "metadata": {},
   "outputs": [],
   "source": [
    "red = 3.1  # W/mK Granite\n",
    "blue = 7.5  #W/mK Salt\n",
    "brown = 1.2  # 1.05–1.45 W/mK, shale\n",
    "yellow = 3  # 2.50–4.20 W/mK Sandstone\n",
    "gray = 0.9 #0.80–1.25 W/mK Claystone-Siltstone\n",
    "green = 3.2 # 2.50–4.20 W/mK Sandstone\n",
    "\n",
    "nrb = [nrb1_1, nrb1_2, nrb1_3, nrb2_1, nrb2_2, nrb2_3, nrb3_1, nrb3_2, nrb3_3, nrb4_1, nrb4_2, nrb4_3, nrb5_1,\n",
    "       nrb5_2, nrb5_3, nrb6_1, nrb6_2, nrb6_3]\n",
    "name = [\"bottom_L\", \"bottom_C\", \"bottom_R\", \"D2_1\", \"D2_2\", \"D2_3\", \"D3_1\", \"D3_2\", \"D3_3\", \"D4_1\", \"D4_2\", \"D4_3\",\n",
    "            \"D5_1\", \"D5_2\", \"D5_3\", \"top_L\", \"top_C\", \"top_R\"]\n",
    "color = [\"red\", \"red\", \"red\", \"blue\", \"blue\", \"blue\", \"brown\", \"blue\", \"brown\", \"yellow\", \"blue\", \"yellow\", \"gray\",\n",
    "         \"blue\", \"gray\", \"green\", \"green\", \"green\"]\n",
    "kappa = [red, red, red, blue, blue,blue, brown, blue,brown, yellow, blue, yellow, gray, blue, gray,\n",
    "         green, blue, green]\n",
    "position = [(1, 1), (1, 2), (1, 3), (2, 1), (2, 2), (2, 3), (3, 1), (3, 2), (3, 3),(4, 1), (4, 2), (4, 3), (5, 1),\n",
    "            (5, 2), (5, 3), (6, 1), (6, 2), (6, 3)]"
   ]
  },
  {
   "cell_type": "code",
   "execution_count": null,
   "metadata": {},
   "outputs": [],
   "source": [
    "for i, nr in enumerate(nrb):\n",
    "    mult.add_patch(nr, name[i], position=position[i], kappa = kappa[i], color=color[i])\n"
   ]
  },
  {
   "cell_type": "code",
   "execution_count": null,
   "metadata": {},
   "outputs": [],
   "source": [
    "from pygeoiga.plot.nrbplotting_vtk import create_figure, p_show, p_cpoints, p_surface, p_knots, p_show\n",
    "   "
   ]
  },
  {
   "cell_type": "code",
   "execution_count": null,
   "metadata": {},
   "outputs": [],
   "source": [
    "p = create_figure(notebook = True)\n",
    "for patch_id in mult.geometry.keys():\n",
    "    p=p_surface(mult.geometry[patch_id].get(\"knots\"), \n",
    "                mult.geometry[patch_id].get(\"B\"), \n",
    "                p=p,\n",
    "                color=mult.geometry[patch_id].get(\"color\"), \n",
    "                )\n",
    "\n",
    "p_show(p)"
   ]
  },
  {
   "cell_type": "code",
   "execution_count": null,
   "metadata": {},
   "outputs": [],
   "source": [
    "#p = p_cpoints(geometry[patch_id].get(\"B\"), p=p )\n",
    "    #p=p_knots(geometry[patch_id].get(\"knots\"), geometry[patch_id].get(\"B\"), p=p)"
   ]
  },
  {
   "cell_type": "code",
   "execution_count": null,
   "metadata": {},
   "outputs": [],
   "source": [
    "# Assign connection between faces\n",
    "mult.define_topology()"
   ]
  },
  {
   "cell_type": "code",
   "execution_count": null,
   "metadata": {},
   "outputs": [],
   "source": [
    "# Global refine\n",
    "knot_ins = np.arange(0.1, 1, 0.1)\n",
    "\n",
    "mult.global_knot_insertion(knot_ins, direction =0)\n",
    "mult.global_knot_insertion(knot_ins, direction =1)"
   ]
  },
  {
   "cell_type": "code",
   "execution_count": null,
   "metadata": {},
   "outputs": [],
   "source": [
    "fig, [ax1, ax2] = plt.subplots(1, 2, figsize=(15,5))\n",
    "mult.plot_cpoints(ax=ax1)\n",
    "mult.plot_knots(ax=ax2)"
   ]
  },
  {
   "cell_type": "code",
   "execution_count": null,
   "metadata": {},
   "outputs": [],
   "source": [
    "gDoF = mult.fill_topological_info()\n",
    "print(\"Global degrees of freedom: \", gDoF)"
   ]
  },
  {
   "cell_type": "markdown",
   "metadata": {},
   "source": [
    "<a id='k'></a>\n",
    "## 2) Assemble stiffness matrix"
   ]
  },
  {
   "cell_type": "code",
   "execution_count": null,
   "metadata": {},
   "outputs": [],
   "source": [
    "# Set empty the stiffness matrix\n",
    "K = np.zeros((gDoF, gDoF))"
   ]
  },
  {
   "cell_type": "code",
   "execution_count": null,
   "metadata": {},
   "outputs": [],
   "source": [
    "# Assemble stiffnes matrix\n",
    "from pygeoiga.analysis.MultiPatch import form_k_IGA_mp"
   ]
  },
  {
   "cell_type": "code",
   "execution_count": null,
   "metadata": {},
   "outputs": [],
   "source": [
    "# Depending to the degrees of freedoms this can take a while\n",
    "K = form_k_IGA_mp(mult.geometry, K)"
   ]
  },
  {
   "cell_type": "code",
   "execution_count": null,
   "metadata": {},
   "outputs": [],
   "source": [
    "# Plot the stiffness matrix shape\n",
    "fig, ax = plt.subplots(figsize=(5,5))\n",
    "ax.spy(K)"
   ]
  },
  {
   "cell_type": "markdown",
   "metadata": {},
   "source": [
    "<a id='bc'></a>\n",
    "## 3) Assign Boundary conditions"
   ]
  },
  {
   "cell_type": "code",
   "execution_count": null,
   "metadata": {},
   "outputs": [],
   "source": [
    "f = np.zeros(gDoF) # Force vector\n",
    "a = np.zeros(gDoF) # Solution vector"
   ]
  },
  {
   "cell_type": "code",
   "execution_count": null,
   "metadata": {},
   "outputs": [],
   "source": [
    "T_t = 10  # [°C]\n",
    "T_b = 90  # [°C]\n",
    "T_l = None  # 10\n",
    "T_r = None  # 40"
   ]
  },
  {
   "cell_type": "code",
   "execution_count": null,
   "metadata": {},
   "outputs": [],
   "source": [
    "from pygeoiga.analysis.MultiPatch import boundary_condition_mp\n",
    "bc, a = boundary_condition_mp(mult.geometry, a, T_t, T_b, T_l, T_r)\n",
    "bc[\"gDOF\"] = gDoF"
   ]
  },
  {
   "cell_type": "markdown",
   "metadata": {},
   "source": [
    "<a id='solve'></a>\n",
    "## 4) Solve:  Ka = f\n"
   ]
  },
  {
   "cell_type": "code",
   "execution_count": null,
   "metadata": {},
   "outputs": [],
   "source": [
    "from pygeoiga.analysis.common import solve"
   ]
  },
  {
   "cell_type": "code",
   "execution_count": null,
   "metadata": {},
   "outputs": [],
   "source": [
    "a, f = solve(bc, K, f, a)"
   ]
  },
  {
   "cell_type": "code",
   "execution_count": null,
   "metadata": {},
   "outputs": [],
   "source": [
    "# Temperatures\n",
    "a[:10]"
   ]
  },
  {
   "cell_type": "markdown",
   "metadata": {},
   "source": [
    "<a id='post'></a>\n",
    "## 5) Post-processing"
   ]
  },
  {
   "cell_type": "code",
   "execution_count": null,
   "metadata": {},
   "outputs": [],
   "source": [
    "from pygeoiga.analysis.MultiPatch import map_MP_elements\n",
    "# Map solution to geometry\n",
    "mult.geometry = map_MP_elements(mult.geometry, a)"
   ]
  },
  {
   "cell_type": "markdown",
   "metadata": {},
   "source": [
    "<a id='plot'></a>\n",
    "### Plotting"
   ]
  },
  {
   "cell_type": "code",
   "execution_count": null,
   "metadata": {},
   "outputs": [],
   "source": [
    "fig, ax = plt.subplots(figsize=(15,10))\n",
    "ax.set_aspect(\"equal\")\n",
    "mult.plot_knots(ax = ax, linewidth=0.5, linestyle=\"--\", color=\"black\", point=False)\n",
    "mult.plot_solution(ax = ax, colorbar=True, point=True, fill=False, contour=False)"
   ]
  },
  {
   "cell_type": "code",
   "execution_count": null,
   "metadata": {},
   "outputs": [],
   "source": [
    "fig, ax = plt.subplots(figsize=(15,10))\n",
    "ax.set_aspect(\"equal\")\n",
    "mult.plot_solution(ax = ax, colorbar=True, point=False, fill=True, contour=False, levels=100)\n",
    "mult.plot_solution(ax = ax, colorbar=True, point=False, fill=False, contour=True, levels=[20, 40, 60, 80])"
   ]
  },
  {
   "cell_type": "code",
   "execution_count": null,
   "metadata": {},
   "outputs": [],
   "source": []
  }
 ],
 "metadata": {
  "kernelspec": {
   "display_name": "Python 3",
   "language": "python",
   "name": "python3"
  },
  "language_info": {
   "codemirror_mode": {
    "name": "ipython",
    "version": 3
   },
   "file_extension": ".py",
   "mimetype": "text/x-python",
   "name": "python",
   "nbconvert_exporter": "python",
   "pygments_lexer": "ipython3",
   "version": "3.7.1"
  }
 },
 "nbformat": 4,
 "nbformat_minor": 4
}
