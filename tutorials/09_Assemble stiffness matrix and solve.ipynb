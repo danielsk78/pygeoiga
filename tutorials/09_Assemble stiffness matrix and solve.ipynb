{
 "cells": [
  {
   "cell_type": "markdown",
   "metadata": {},
   "source": [
    "# Assembling Stiffness matrix; Impose Boundary conditions; Solve"
   ]
  },
  {
   "cell_type": "markdown",
   "metadata": {},
   "source": [
    "This workflow can be extended to any geometry.\n",
    "\n",
    "Content:\n",
    "* [Create, refine and assign topology to geometry](#geometry)\n",
    "* [Build stiffness matrix](#k)\n",
    "* [Assign Dirichlet Boundary Conditions](#bc)\n",
    "* [Solving system of equations](#solve)\n",
    "* [Post-processing](#post)\n",
    "    * [plot](#plot)"
   ]
  },
  {
   "cell_type": "code",
   "execution_count": 1,
   "metadata": {},
   "outputs": [],
   "source": [
    "import numpy as np\n",
    "import matplotlib.pyplot as plt"
   ]
  },
  {
   "cell_type": "markdown",
   "metadata": {},
   "source": [
    "<a id='geometry'></a>\n",
    "## 1) Create geometry - Anticline model; refine and assign topology"
   ]
  },
  {
   "cell_type": "code",
   "execution_count": 2,
   "metadata": {},
   "outputs": [],
   "source": [
    "from pygeoiga.nurb.nurb_creation import NURB"
   ]
  },
  {
   "cell_type": "code",
   "execution_count": 3,
   "metadata": {},
   "outputs": [],
   "source": [
    "# Create multipatch structure\n",
    "cp1 = np.array([[[0., 0.], [0.,  50.], [0., 100.]],\n",
    "                [[250., 0.], [250., 180.], [250., 250.]],\n",
    "                [[500.,   0.], [500.,  50.], [500., 100.]]])\n",
    "knot1 = [[0, 0, 0, 1, 1, 1],[0, 0, 0, 1, 1, 1]]\n",
    "\n",
    "nrb1 = NURB(cp1, knot1)\n",
    "cp2=np.array([[[0., 100.], [0., 200.], [0., 300.]],\n",
    "                       [[250., 250.], [250., 350.], [250., 400.]],\n",
    "                       [[500., 100.], [500., 200.], [500., 300.]]])\n",
    "knot2= [[0, 0, 0, 1, 1, 1],[0, 0, 0, 1, 1, 1]]\n",
    "nrb2 = NURB(cp2, knot2)\n",
    "\n",
    "cp3 = np.array([[[0., 300.], [0., 400.], [0., 500.]],\n",
    "                        [[250., 400.], [250., 450.], [250., 500.]],\n",
    "                        [[500., 300.], [500., 400.], [500., 500.]]])\n",
    "knot3 = [[0, 0, 0, 1, 1, 1],[0, 0, 0, 1, 1, 1]]\n",
    "\n",
    "nrb3 = NURB(cp3, knot3)"
   ]
  },
  {
   "cell_type": "code",
   "execution_count": 4,
   "metadata": {},
   "outputs": [],
   "source": [
    "from pygeoiga.nurb.multipatch_NURBS import Multipatch"
   ]
  },
  {
   "cell_type": "code",
   "execution_count": 5,
   "metadata": {},
   "outputs": [],
   "source": [
    "mult = Multipatch()\n",
    "# Kappa is the thermal conductivity of the patch\n",
    "mult.add_patch(nrb1, \"Bottom\", position=(1,1), kappa = 2, color=\"red\")\n",
    "mult.add_patch(nrb2, \"Middle\", position=(2,1), kappa = 3.1, color=\"green\")\n",
    "mult.add_patch(nrb3, \"Top\", position=(3,1), kappa = 0.8, color=\"blue\")"
   ]
  },
  {
   "cell_type": "code",
   "execution_count": 6,
   "metadata": {},
   "outputs": [
    {
     "data": {
      "text/plain": [
       "True"
      ]
     },
     "execution_count": 6,
     "metadata": {},
     "output_type": "execute_result"
    }
   ],
   "source": [
    "knot_ins = np.arange(0.1, 1, 0.1)\n",
    "\n",
    "mult.global_knot_insertion(knot_ins, direction =0)\n",
    "mult.global_knot_insertion(knot_ins, direction =1)"
   ]
  },
  {
   "cell_type": "code",
   "execution_count": 7,
   "metadata": {},
   "outputs": [
    {
     "data": {
      "text/plain": [
       "True"
      ]
     },
     "execution_count": 7,
     "metadata": {},
     "output_type": "execute_result"
    }
   ],
   "source": [
    "# Assign connection between faces\n",
    "mult.define_topology()"
   ]
  },
  {
   "cell_type": "code",
   "execution_count": 8,
   "metadata": {},
   "outputs": [
    {
     "name": "stdout",
     "output_type": "stream",
     "text": [
      "Global degrees of freedom:  408\n"
     ]
    }
   ],
   "source": [
    "gDoF = mult.fill_topological_info()\n",
    "print(\"Global degrees of freedom: \", gDoF)"
   ]
  },
  {
   "cell_type": "markdown",
   "metadata": {},
   "source": [
    "<a id='k'></a>\n",
    "## 2) Assemble stiffness matrix"
   ]
  },
  {
   "cell_type": "code",
   "execution_count": 9,
   "metadata": {},
   "outputs": [],
   "source": [
    "# Set empty the stiffness matrix\n",
    "K = np.zeros((gDoF, gDoF))"
   ]
  },
  {
   "cell_type": "code",
   "execution_count": 10,
   "metadata": {},
   "outputs": [],
   "source": [
    "# Assemble stiffnes matrix\n",
    "from pygeoiga.analysis.MultiPatch import form_k_IGA_mp"
   ]
  },
  {
   "cell_type": "code",
   "execution_count": 11,
   "metadata": {},
   "outputs": [],
   "source": [
    "# Depending to the degrees of freedoms this can take a while\n",
    "K = form_k_IGA_mp(mult.geometry, K)"
   ]
  },
  {
   "cell_type": "code",
   "execution_count": 12,
   "metadata": {},
   "outputs": [
    {
     "data": {
      "text/plain": [
       "<matplotlib.image.AxesImage at 0x7f953e490160>"
      ]
     },
     "execution_count": 12,
     "metadata": {},
     "output_type": "execute_result"
    },
    {
     "data": {
      "image/png": "[encoded data removed]",
      "text/plain": [
       "<Figure size 360x360 with 1 Axes>"
      ]
     },
     "metadata": {
      "needs_background": "light"
     },
     "output_type": "display_data"
    }
   ],
   "source": [
    "# Plot the stiffness matrix shape\n",
    "fig, ax = plt.subplots(figsize=(5,5))\n",
    "ax.spy(K)"
   ]
  },
  {
   "cell_type": "markdown",
   "metadata": {},
   "source": [
    "<a id='bc'></a>\n",
    "## 3) Assign Boundary conditions"
   ]
  },
  {
   "cell_type": "code",
   "execution_count": 13,
   "metadata": {},
   "outputs": [],
   "source": [
    "f = np.zeros(gDoF) # Force vector\n",
    "a = np.zeros(gDoF) # Solution vector"
   ]
  },
  {
   "cell_type": "code",
   "execution_count": 14,
   "metadata": {},
   "outputs": [],
   "source": [
    "T_t = 10  # [°C]\n",
    "T_b = 25  # [°C]\n",
    "T_l = None  # 10\n",
    "T_r = None  # 40"
   ]
  },
  {
   "cell_type": "code",
   "execution_count": 15,
   "metadata": {},
   "outputs": [],
   "source": [
    "from pygeoiga.analysis.MultiPatch import boundary_condition_mp\n",
    "bc, a = boundary_condition_mp(mult.geometry, a, T_t, T_b, T_l, T_r)\n",
    "bc[\"gDOF\"] = gDoF"
   ]
  },
  {
   "cell_type": "markdown",
   "metadata": {},
   "source": [
    "<a id='solve'></a>\n",
    "## 4) Solve:  Ka = f\n"
   ]
  },
  {
   "cell_type": "code",
   "execution_count": 16,
   "metadata": {},
   "outputs": [],
   "source": [
    "from pygeoiga.analysis.common import solve"
   ]
  },
  {
   "cell_type": "code",
   "execution_count": 17,
   "metadata": {},
   "outputs": [],
   "source": [
    "a, f = solve(bc, K, f, a)"
   ]
  },
  {
   "cell_type": "code",
   "execution_count": 18,
   "metadata": {},
   "outputs": [
    {
     "data": {
      "text/plain": [
       "array([25., 25., 25., 25., 25., 25., 25., 25., 25., 25.])"
      ]
     },
     "execution_count": 18,
     "metadata": {},
     "output_type": "execute_result"
    }
   ],
   "source": [
    "# Temperatures\n",
    "a[:10]"
   ]
  },
  {
   "cell_type": "markdown",
   "metadata": {},
   "source": [
    "<a id='post'></a>\n",
    "## 5) Post-processing"
   ]
  },
  {
   "cell_type": "code",
   "execution_count": 19,
   "metadata": {},
   "outputs": [],
   "source": [
    "from pygeoiga.analysis.MultiPatch import map_MP_elements\n",
    "# Map solution to geometry\n",
    "mult.geometry = map_MP_elements(mult.geometry, a)"
   ]
  },
  {
   "cell_type": "markdown",
   "metadata": {},
   "source": [
    "<a id='plot'></a>\n",
    "### Plotting"
   ]
  },
  {
   "cell_type": "code",
   "execution_count": 20,
   "metadata": {},
   "outputs": [
    {
     "data": {
      "image/png": "[encoded data removed]",
      "text/plain": [
       "<Figure size 720x720 with 2 Axes>"
      ]
     },
     "metadata": {
      "needs_background": "light"
     },
     "output_type": "display_data"
    }
   ],
   "source": [
    "from pygeoiga.plot.solution_mpl import p_temperature\n",
    "fig, ax = plt.subplots(figsize=(10,10))\n",
    "for patch_id in mult.geometry.keys():\n",
    "    x = mult.geometry[patch_id].get(\"x_sol\")\n",
    "    y = mult.geometry[patch_id].get(\"y_sol\")\n",
    "    t = mult.geometry[patch_id].get(\"t_sol\")\n",
    "    ax = p_temperature(x,\n",
    "                       y,\n",
    "                       t, \n",
    "                       vmin = np.min(a), \n",
    "                       vmax = np.max(a), \n",
    "                       levels=50, \n",
    "                       show=False, \n",
    "                       colorbar=True, \n",
    "                       ax=ax,\n",
    "                       point = False, \n",
    "                       fill=True, \n",
    "                       contour=False)\n",
    "    ax = p_temperature(x,\n",
    "                       y,\n",
    "                       t, \n",
    "                       vmin = np.min(a), \n",
    "                       vmax = np.max(a), \n",
    "                       levels=10, \n",
    "                       show=False, \n",
    "                       colorbar=True, \n",
    "                       ax=ax,\n",
    "                       point = False, \n",
    "                       fill=False, \n",
    "                       contour=True)\n",
    "        "
   ]
  },
  {
   "cell_type": "markdown",
   "metadata": {},
   "source": [
    "Optionally you can use the solution plotting"
   ]
  },
  {
   "cell_type": "code",
   "execution_count": 21,
   "metadata": {},
   "outputs": [
    {
     "data": {
      "text/plain": [
       "<AxesSubplot:>"
      ]
     },
     "execution_count": 21,
     "metadata": {},
     "output_type": "execute_result"
    },
    {
     "data": {
      "image/png": "[encoded data removed]",
      "text/plain": [
       "<Figure size 720x1440 with 2 Axes>"
      ]
     },
     "metadata": {
      "needs_background": "light"
     },
     "output_type": "display_data"
    }
   ],
   "source": [
    "mult.plot_solution()"
   ]
  },
  {
   "cell_type": "code",
   "execution_count": null,
   "metadata": {},
   "outputs": [],
   "source": []
  }
 ],
 "metadata": {
  "kernelspec": {
   "display_name": "Python 3",
   "language": "python",
   "name": "python3"
  },
  "language_info": {
   "codemirror_mode": {
    "name": "ipython",
    "version": 3
   },
   "file_extension": ".py",
   "mimetype": "text/x-python",
   "name": "python",
   "nbconvert_exporter": "python",
   "pygments_lexer": "ipython3",
   "version": "3.7.1"
  }
 },
 "nbformat": 4,
 "nbformat_minor": 4
}
