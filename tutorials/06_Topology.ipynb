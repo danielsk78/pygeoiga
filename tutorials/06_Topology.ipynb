{
 "cells": [
  {
   "cell_type": "markdown",
   "metadata": {},
   "source": [
    "# Topology of Patches"
   ]
  },
  {
   "cell_type": "markdown",
   "metadata": {},
   "source": [
    "When declaring the topology of the patches is important to indicate the connection between patches and the faces for the boundary conditions\n",
    "\n",
    "content:\n",
    "\n",
    "* [Anticline model](#anticline)\n",
    "    * [Creation of patches](#patches)\n",
    "    * [Assign positions in grid](#position)\n",
    "    * [Assign topology](#topology)\n",
    "    \n",
    "* [Fault model](#Fault)\n",
    "    * [Creation of patches](#patches2)\n",
    "    * [Assign positions in grid](#position2)\n",
    "    * [Assign topology](#topology2)"
   ]
  },
  {
   "cell_type": "code",
   "execution_count": 20,
   "metadata": {},
   "outputs": [],
   "source": [
    "import numpy as np"
   ]
  },
  {
   "cell_type": "markdown",
   "metadata": {},
   "source": [
    "<a id='anticline'></a>\n",
    "# Anticline"
   ]
  },
  {
   "cell_type": "markdown",
   "metadata": {},
   "source": [
    "<a id='patches'></a>\n",
    "## 1) Creation of patches"
   ]
  },
  {
   "cell_type": "code",
   "execution_count": 21,
   "metadata": {},
   "outputs": [],
   "source": [
    "from pygeoiga.nurb.nurb_creation import NURB"
   ]
  },
  {
   "cell_type": "code",
   "execution_count": 22,
   "metadata": {},
   "outputs": [],
   "source": [
    "# Create multipatch structure\n",
    "cp1 = np.array([[[0., 0.], [0.,  50.], [0., 100.]],\n",
    "                [[250., 0.], [250., 180.], [250., 250.]],\n",
    "                [[500.,   0.], [500.,  50.], [500., 100.]]])\n",
    "knot1 = [[0, 0, 0, 1, 1, 1],[0, 0, 0, 1, 1, 1]]\n",
    "\n",
    "nrb1 = NURB(cp1, knot1)\n",
    "cp2=np.array([[[0., 100.], [0., 200.], [0., 300.]],\n",
    "                       [[250., 250.], [250., 350.], [250., 400.]],\n",
    "                       [[500., 100.], [500., 200.], [500., 300.]]])\n",
    "knot2= [[0, 0, 0, 1, 1, 1],[0, 0, 0, 1, 1, 1]]\n",
    "nrb2 = NURB(cp2, knot2)\n",
    "\n",
    "cp3 = np.array([[[0., 300.], [0., 400.], [0., 500.]],\n",
    "                        [[250., 400.], [250., 450.], [250., 500.]],\n",
    "                        [[500., 300.], [500., 400.], [500., 500.]]])\n",
    "knot3 = [[0, 0, 0, 1, 1, 1],[0, 0, 0, 1, 1, 1]]\n",
    "\n",
    "nrb3 = NURB(cp3, knot3)"
   ]
  },
  {
   "cell_type": "code",
   "execution_count": 23,
   "metadata": {},
   "outputs": [],
   "source": [
    "from pygeoiga.nurb.multipatch_NURBS import Multipatch"
   ]
  },
  {
   "cell_type": "code",
   "execution_count": 24,
   "metadata": {},
   "outputs": [],
   "source": [
    "mult = Multipatch()"
   ]
  },
  {
   "cell_type": "markdown",
   "metadata": {},
   "source": [
    "<a id='position'></a>\n",
    "## 2) Assign position of patches in a grid"
   ]
  },
  {
   "cell_type": "markdown",
   "metadata": {},
   "source": [
    "The most important aspect is defining the position of the patch. This should be done in a grid that starts in the lower left side. Then, this will allow to construct the connection between faces"
   ]
  },
  {
   "cell_type": "code",
   "execution_count": 25,
   "metadata": {},
   "outputs": [],
   "source": [
    "mult.add_patch(nrb1, \"Bottom\", position=(1,1))\n",
    "mult.add_patch(nrb2, \"Middle\", position=(2,1))\n",
    "mult.add_patch(nrb3, \"Top\", position=(3,1))"
   ]
  },
  {
   "cell_type": "code",
   "execution_count": 26,
   "metadata": {},
   "outputs": [
    {
     "name": "stdout",
     "output_type": "stream",
     "text": [
      "{}\n",
      "{}\n",
      "{}\n"
     ]
    }
   ],
   "source": [
    "#just for illustrative purposes\n",
    "for name in mult.geometry.keys():\n",
    "    print(name, mult.geometry[name].get(\"patch_faces\"))"
   ]
  },
  {
   "cell_type": "markdown",
   "metadata": {},
   "source": [
    "<a id='topology'></a>\n",
    "## 3) Assign topology"
   ]
  },
  {
   "cell_type": "code",
   "execution_count": 27,
   "metadata": {},
   "outputs": [],
   "source": [
    "mult.define_topology()"
   ]
  },
  {
   "cell_type": "code",
   "execution_count": 28,
   "metadata": {},
   "outputs": [
    {
     "name": "stdout",
     "output_type": "stream",
     "text": [
      "{2: 'Middle'}\n",
      "{0: 'Bottom', 2: 'Top'}\n",
      "{0: 'Middle'}\n"
     ]
    }
   ],
   "source": [
    "#just for illustrative purposes\n",
    "# BOUNDARIES - faces of the patch in contact\n",
    "# 0: down\n",
    "# 1: right\n",
    "# 2: up\n",
    "# 3: left\n",
    "\n",
    "for name in mult.geometry.keys():\n",
    "    print(name, mult.geometry[name].get(\"patch_faces\"))"
   ]
  },
  {
   "cell_type": "code",
   "execution_count": 30,
   "metadata": {},
   "outputs": [
    {
     "data": {
      "text/plain": [
       "<AxesSubplot:>"
      ]
     },
     "execution_count": 30,
     "metadata": {},
     "output_type": "execute_result"
    },
    {
     "data": {
      "image/png": "[encoded data removed]",
      "text/plain": [
       "<Figure size 720x1440 with 1 Axes>"
      ]
     },
     "metadata": {
      "needs_background": "light"
     },
     "output_type": "display_data"
    }
   ],
   "source": [
    "mult.plot_surfaces()"
   ]
  },
  {
   "cell_type": "markdown",
   "metadata": {},
   "source": [
    "<a id='Fault'></a>\n",
    "# Fault Model"
   ]
  },
  {
   "cell_type": "markdown",
   "metadata": {},
   "source": [
    "<a id='patches2'></a>\n",
    "## 1) Create patches"
   ]
  },
  {
   "cell_type": "code",
   "execution_count": 31,
   "metadata": {},
   "outputs": [],
   "source": [
    "# Create multipatch structure\n",
    "c_d1 = np.array([[[0, 0], [0, 100], [0, 200]],\n",
    "                          [[50, 0], [85.5, 100], [121, 200]],\n",
    "                          [[100, 0], [171, 100], [242, 200]]])\n",
    "k_d1 = [[0, 0, 0, 1, 1, 1], [0, 0, 0, 1, 1, 1]]\n",
    "nrb_d1 = NURB(c_d1, k_d1)\n",
    "\n",
    "c_d2 = np.array([[[100, 0], [171, 100], [242, 200]],\n",
    "                 [[550, 0], [585.5, 100], [621, 200]],\n",
    "                 [[1000, 0], [1000,  100], [1000,  200]]])\n",
    "k_d2 = [[0, 0, 0, 1, 1, 1], [0, 0, 0, 1, 1, 1]]\n",
    "nrb_d2 = NURB(c_d2, k_d2)\n",
    "\n",
    "c_d3 = np.array([[[0, 200], [0, 250], [0, 300]],\n",
    "                 [[121, 200], [138, 250], [155, 300]],\n",
    "                 [[242, 200],  [276, 250], [310, 300]]])\n",
    "k_d3 = [[0, 0, 0, 1, 1, 1], [0, 0, 0, 1, 1, 1]]\n",
    "nrb_d3 = NURB(c_d3, k_d3)\n",
    "\n",
    "c_d4 = np.array([[[ 242,  200], [ 276.,  250.], [ 310.,  300]],\n",
    "                 [[ 621.,  200.], [ 638.,  250], [ 655.,  300.]],\n",
    "                 [[1000.,  200.], [1000.,  250.], [1000.,  300.]]])\n",
    "k_d4 = [[0, 0, 0, 1, 1, 1], [0, 0, 0, 1, 1, 1]]\n",
    "nrb_d4 = NURB(c_d4, k_d4)\n",
    "\n",
    "c_d5 = np.array([[[  0., 300], [  0., 500], [  0., 700.]],\n",
    "                 [[155., 300.], [225., 500.], [295., 700.]],\n",
    "                 [[310., 300.], [450., 500], [590., 700]]])\n",
    "k_d5 = [[0, 0, 0, 1, 1, 1], [0, 0, 0, 1, 1, 1]]\n",
    "nrb_d5 = NURB(c_d5, k_d5)\n",
    "\n",
    "c_d6 = np.array([[[ 310.,  300], [ 450.,  500], [ 590.,  700]],\n",
    "                 [[ 655.,  300], [ 725.,  500], [ 795.,  700]],\n",
    "                 [[1000.,  300], [1000.,  500], [1000.,  700]]])\n",
    "k_d6 = [[0, 0, 0, 1, 1, 1], [0, 0, 0, 1, 1, 1]]\n",
    "nrb_d6 = NURB(c_d6, k_d6)\n",
    "\n",
    "c_d7 = np.array([[[  0. , 700], [  0. , 750], [  0. , 800.]],\n",
    "                 [[295. , 700], [312.5, 750], [330. , 800]],\n",
    "                 [[590. , 700], [625. , 750], [660. , 800]]])\n",
    "k_d7 = [[0, 0, 0, 1, 1, 1], [0, 0, 0, 1, 1, 1]]\n",
    "nrb_d7 = NURB(c_d7, k_d7)\n",
    "\n",
    "c_d8 = np.array([[[ 590. ,  700], [ 625. ,  750], [ 660. ,  800]],\n",
    "              [[ 795. ,  700], [ 812.5,  750], [ 830. ,  800]],\n",
    "              [[1000. ,  700], [1000. ,  750], [1000. ,  800]]])\n",
    "k_d8 = [[0, 0, 0, 1, 1, 1], [0, 0, 0, 1, 1, 1]]\n",
    "nrb_d8 = NURB(c_d8, k_d8)\n",
    "\n",
    "c_d9 = np.array([[[   0.,  800], [   0.,  900], [ 0., 1000]],\n",
    "                 [[ 330.,  800], [ 365.,  900], [ 400., 1000]],\n",
    "                  [[660.,  800], [ 730.,  900], [ 800., 1000]]])\n",
    "k_d9 = [[0, 0, 0, 1, 1, 1], [0, 0, 0, 1, 1, 1]]\n",
    "nrb_d9 = NURB(c_d9, k_d9)\n",
    "\n",
    "c_d10 = np.array([[[ 660.,  800.], [ 730.,  900], [ 800., 1000]],\n",
    "                  [[ 830.,  800], [ 865.,  900], [ 900., 1000]],\n",
    "                  [[1000.,  800], [1000.,  900], [1000., 1000]]])\n",
    "k_d10 = [[0, 0, 0, 1, 1, 1], [0, 0, 0, 1, 1, 1]]\n",
    "nrb_d10 = NURB(c_d10, k_d10)\n"
   ]
  },
  {
   "cell_type": "code",
   "execution_count": 33,
   "metadata": {},
   "outputs": [],
   "source": [
    "mult2 = Multipatch()"
   ]
  },
  {
   "cell_type": "markdown",
   "metadata": {},
   "source": [
    "<a id='position2'></a>\n",
    "## 2) Assign position of patches in a grid"
   ]
  },
  {
   "cell_type": "code",
   "execution_count": 46,
   "metadata": {},
   "outputs": [],
   "source": [
    "mult2.add_patch(nrb_d1, \"d1\", position=(1,1))\n",
    "mult2.add_patch(nrb_d2, \"d2\", position=(1,2))\n",
    "mult2.add_patch(nrb_d3, \"d3\", position=(2,1))\n",
    "mult2.add_patch(nrb_d4, \"d4\", position=(2,2))\n",
    "mult2.add_patch(nrb_d5, \"d5\", position=(3,1))\n",
    "mult2.add_patch(nrb_d6, \"d6\", position=(3,2))\n",
    "mult2.add_patch(nrb_d7, \"d7\", position=(4,1))\n",
    "mult2.add_patch(nrb_d8, \"d8\", position=(4,2))\n",
    "mult2.add_patch(nrb_d9, \"d9\", position=(5,1))\n",
    "mult2.add_patch(nrb_d10, \"d10\", position=(5,2))"
   ]
  },
  {
   "cell_type": "code",
   "execution_count": 47,
   "metadata": {},
   "outputs": [
    {
     "name": "stdout",
     "output_type": "stream",
     "text": [
      "d1 {}\n",
      "d2 {}\n",
      "d3 {}\n",
      "d4 {}\n",
      "d5 {}\n",
      "d6 {}\n",
      "d7 {}\n",
      "d8 {}\n",
      "d9 {}\n",
      "d10 {}\n"
     ]
    }
   ],
   "source": [
    "#just for illustrative purposes\n",
    "for name in mult2.geometry.keys():\n",
    "    print(name, mult2.geometry[name].get(\"patch_faces\"))"
   ]
  },
  {
   "cell_type": "markdown",
   "metadata": {},
   "source": [
    "<a id='topology2'></a>\n",
    "## 3) Assign topology"
   ]
  },
  {
   "cell_type": "code",
   "execution_count": 48,
   "metadata": {},
   "outputs": [],
   "source": [
    "mult2.define_topology()"
   ]
  },
  {
   "cell_type": "code",
   "execution_count": 49,
   "metadata": {},
   "outputs": [
    {
     "name": "stdout",
     "output_type": "stream",
     "text": [
      "d1 {1: 'd2', 2: 'd3'}\n",
      "d2 {3: 'd1', 2: 'd4'}\n",
      "d3 {0: 'd1', 1: 'd4', 2: 'd5'}\n",
      "d4 {0: 'd2', 3: 'd3', 2: 'd6'}\n",
      "d5 {0: 'd3', 1: 'd6', 2: 'd7'}\n",
      "d6 {0: 'd4', 3: 'd5', 2: 'd8'}\n",
      "d7 {0: 'd5', 1: 'd8', 2: 'd9'}\n",
      "d8 {0: 'd6', 3: 'd7', 2: 'd10'}\n",
      "d9 {0: 'd7', 1: 'd10'}\n",
      "d10 {0: 'd8', 3: 'd9'}\n"
     ]
    }
   ],
   "source": [
    "# BOUNDARIES - faces of the patch in contact\n",
    "# 0: down\n",
    "# 1: right\n",
    "# 2: up\n",
    "# 3: left\n",
    "\n",
    "for name in mult2.geometry.keys():\n",
    "    print(name, mult2.geometry[name].get(\"patch_faces\"))"
   ]
  },
  {
   "cell_type": "code",
   "execution_count": 50,
   "metadata": {},
   "outputs": [
    {
     "data": {
      "text/plain": [
       "<AxesSubplot:>"
      ]
     },
     "execution_count": 50,
     "metadata": {},
     "output_type": "execute_result"
    },
    {
     "data": {
      "image/png": "[encoded data removed]",
      "text/plain": [
       "<Figure size 720x1440 with 1 Axes>"
      ]
     },
     "metadata": {
      "needs_background": "light"
     },
     "output_type": "display_data"
    }
   ],
   "source": [
    "mult2.plot_surfaces()"
   ]
  },
  {
   "cell_type": "code",
   "execution_count": null,
   "metadata": {},
   "outputs": [],
   "source": []
  }
 ],
 "metadata": {
  "kernelspec": {
   "display_name": "Python 3",
   "language": "python",
   "name": "python3"
  },
  "language_info": {
   "codemirror_mode": {
    "name": "ipython",
    "version": 3
   },
   "file_extension": ".py",
   "mimetype": "text/x-python",
   "name": "python",
   "nbconvert_exporter": "python",
   "pygments_lexer": "ipython3",
   "version": "3.7.1"
  }
 },
 "nbformat": 4,
 "nbformat_minor": 4
}
