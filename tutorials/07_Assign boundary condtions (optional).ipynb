{
 "cells": [
  {
   "cell_type": "markdown",
   "metadata": {},
   "source": [
    "## Boundary conditions"
   ]
  },
  {
   "cell_type": "markdown",
   "metadata": {},
   "source": [
    "pyGeoIGA generally takes care of assigning the boundary conditions, but later we will see that this is usefull for the meshing"
   ]
  },
  {
   "cell_type": "code",
   "execution_count": 1,
   "metadata": {},
   "outputs": [],
   "source": [
    "import numpy as np"
   ]
  },
  {
   "cell_type": "code",
   "execution_count": 2,
   "metadata": {},
   "outputs": [],
   "source": [
    "from pygeoiga.nurb.nurb_creation import NURB\n",
    "# Create multipatch structure\n",
    "cp1 = np.array([[[0., 0.], [0.,  50.], [0., 100.]],\n",
    "                [[250., 0.], [250., 180.], [250., 250.]],\n",
    "                [[500.,   0.], [500.,  50.], [500., 100.]]])\n",
    "knot1 = [[0, 0, 0, 1, 1, 1],[0, 0, 0, 1, 1, 1]]\n",
    "\n",
    "nrb1 = NURB(cp1, knot1)\n",
    "cp2=np.array([[[0., 100.], [0., 200.], [0., 300.]],\n",
    "                       [[250., 250.], [250., 350.], [250., 400.]],\n",
    "                       [[500., 100.], [500., 200.], [500., 300.]]])\n",
    "knot2= [[0, 0, 0, 1, 1, 1],[0, 0, 0, 1, 1, 1]]\n",
    "nrb2 = NURB(cp2, knot2)\n",
    "\n",
    "cp3 = np.array([[[0., 300.], [0., 400.], [0., 500.]],\n",
    "                        [[250., 400.], [250., 450.], [250., 500.]],\n",
    "                        [[500., 300.], [500., 400.], [500., 500.]]])\n",
    "knot3 = [[0, 0, 0, 1, 1, 1],[0, 0, 0, 1, 1, 1]]\n",
    "\n",
    "nrb3 = NURB(cp3, knot3)"
   ]
  },
  {
   "cell_type": "code",
   "execution_count": 3,
   "metadata": {},
   "outputs": [],
   "source": [
    "from pygeoiga.nurb.multipatch_NURBS import Multipatch"
   ]
  },
  {
   "cell_type": "code",
   "execution_count": 4,
   "metadata": {},
   "outputs": [],
   "source": [
    "mult = Multipatch()"
   ]
  },
  {
   "cell_type": "code",
   "execution_count": 5,
   "metadata": {},
   "outputs": [],
   "source": [
    "mult.add_patch(nrb1, \"Bottom\", position=(1,1))\n",
    "mult.add_patch(nrb2, \"Middle\", position=(2,1))\n",
    "mult.add_patch(nrb3, \"Top\", position=(3,1))"
   ]
  },
  {
   "cell_type": "code",
   "execution_count": 8,
   "metadata": {},
   "outputs": [],
   "source": [
    "mult.assign_boundary_condition(name_patch = \"Bottom\", id_boundary=\"bot_BC\", face=0)\n",
    "mult.assign_boundary_condition(name_patch = \"Top\", id_boundary=\"top_BC\", face=2)"
   ]
  },
  {
   "cell_type": "code",
   "execution_count": 11,
   "metadata": {},
   "outputs": [
    {
     "name": "stdout",
     "output_type": "stream",
     "text": [
      "Bottom {0: 'bot_BC'}\n",
      "Middle None\n",
      "Top {2: 'top_BC'}\n"
     ]
    }
   ],
   "source": [
    "for name in mult.geometry.keys():\n",
    "    print(name, mult.geometry[name].get(\"BC\"))"
   ]
  },
  {
   "cell_type": "code",
   "execution_count": null,
   "metadata": {},
   "outputs": [],
   "source": []
  }
 ],
 "metadata": {
  "kernelspec": {
   "display_name": "Python 3",
   "language": "python",
   "name": "python3"
  },
  "language_info": {
   "codemirror_mode": {
    "name": "ipython",
    "version": 3
   },
   "file_extension": ".py",
   "mimetype": "text/x-python",
   "name": "python",
   "nbconvert_exporter": "python",
   "pygments_lexer": "ipython3",
   "version": "3.7.1"
  }
 },
 "nbformat": 4,
 "nbformat_minor": 4
}
